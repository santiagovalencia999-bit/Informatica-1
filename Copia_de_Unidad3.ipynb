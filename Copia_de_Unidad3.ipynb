{
  "cells": [
    {
      "cell_type": "markdown",
      "metadata": {
        "id": "view-in-github",
        "colab_type": "text"
      },
      "source": [
        "<a href=\"https://colab.research.google.com/github/santiagovalencia999-bit/Informatica-1/blob/main/Copia_de_Unidad3.ipynb\" target=\"_parent\"><img src=\"https://colab.research.google.com/assets/colab-badge.svg\" alt=\"Open In Colab\"/></a>"
      ]
    },
    {
      "cell_type": "markdown",
      "metadata": {
        "id": "bmEOj-4I_qco"
      },
      "source": [
        "<img src=\"https://github.com/sisaza/informatica/blob/master/Unidad3/images/Inf1_cabezotedocumentos.png?raw=1\" alt=\"header\"/>"
      ]
    },
    {
      "cell_type": "markdown",
      "metadata": {
        "id": "5fCEDCU_qrC0"
      },
      "source": [
        "<div class=\"markdown-google-sans\">\n",
        "  <h1>¿Qué es Colab?</h1>\n",
        "</div>\n",
        "\n",
        "Colab, o \"Colaboratory\", te permite escribir y ejecutar código de Python en tu navegador, con\n",
        "- Sin configuración requerida\n",
        "- Acceso sin costo a GPU\n",
        "- Facilidad para compartir\n",
        "\n",
        "Seas <strong>estudiante</strong>, <strong>científico de datos</strong> o <strong>investigador de IA</strong>, Colab facilita tu trabajo. Mira <a href=\"https://www.youtube.com/watch?v=inN8seMm7UI\">este video introductorio sobre Colab</a> para obtener más información, o bien comienza a usarlo más abajo."
      ]
    },
    {
      "cell_type": "markdown",
      "metadata": {
        "id": "Q6LQ7vm_tYjy"
      },
      "source": [
        "Los notebooks de Colab te permiten combinar <strong>código ejecutable</strong> y <strong>texto enriquecido</strong> en un único documento, junto con <strong>imágenes</strong>, <strong>HTML</strong>, <strong>LaTeX</strong> y mucho más. Los notebooks que crees en Colab se almacenan en tu cuenta de Google Drive. Puedes compartir fácilmente los notebooks de Colab con amigos o compañeros de trabajo para que realicen comentarios o los editen. Si quieres obtener más información, consulta la <a href=\"/notebooks/basic_features_overview.ipynb\">Descripción general de Colab</a>. Para crear un nuevo notebook de Colab, ve al menú Archivo que aparece más arriba o usa este vínculo: <a href=\"http://colab.research.google.com#create=true\">crear un nuevo notebook de Colab</a>.\n",
        "\n",
        "Para Realizar <strong>modificaciones en un notebook de Colab no editable</strong>, es necesario crear una copia del Notebook a tu cuenta personal, ese procedimiento lo puedes llevar acabo en la <strong> barra de herramientas  -> opción Archivo -> opción Guardar una copia en Drive </strong>, esta copia estará almacenada en la carpeta <strong>Colab Notebooks</strong>, que se genera en tu Drive.\n",
        "\n",
        "Los notebooks de Colab son notebooks de Jupyter que aloja Colab. Para obtener más información sobre el proyecto Jupyter, visita <a href=\"https://www.jupyter.org\">jupyter.org</a>.\n"
      ]
    },
    {
      "cell_type": "markdown",
      "metadata": {
        "id": "8wr41SdI_qcp"
      },
      "source": [
        "# Unidad 3: Introducción a Python\n",
        "### Autor: Sebastián Isaza Ramírez - Profesor UdeA\n",
        "\n",
        "Después de aprender los principales conceptos alrededor del hardware y del software, y de saber construir algoritmos representados en diagramas de flujo, en esta unidad se empezarán, finalmente, a desarrollar programas utilizando el lenguaje de programación Python. A la vez que se irá aprendiendo el lenguaje, se invocarán ejemplos de algoritmos que demostrarán la importancia de la eficiencia en la programación."
      ]
    },
    {
      "cell_type": "markdown",
      "metadata": {
        "id": "z60Kcx7b_qcr"
      },
      "source": [
        "### Tabla de contenido\n",
        "\n",
        "[3.1 Elementos básicos de Python](#sec3.1)\n",
        "    \n",
        "[3.1.1 El lenguaje de programación Python](#sec3.1.1)\n",
        "\n",
        "[3.1.2 Ejecución de programas Python](#sec3.1.2)\n",
        "\n",
        "[3.1.3 Tipos de datos y variables](#sec3.1.3)\n",
        "\n",
        "[3.1.4 Operadores, expresiones e instrucciones](#sec3.1.4)\n",
        "\n",
        "[3.1.5 Strings: cadenas de caracteres](#sec3.1.5)\n",
        "\n",
        "[3.1.6 Entrada y salida](#sec3.1.6)\n",
        "\n",
        "[3.1.7 Primitivas, operadores y funciones](#sec3.1.7)\n",
        "\n",
        "[3.1.8 Condicionales](#sec3.1.8)\n",
        "\n",
        "[3.1.9 Operadores de comparación y booleanos](#sec3.1.9)\n",
        "\n",
        "[3.1.10 Ciclos](#sec3.1.10)"
      ]
    },
    {
      "cell_type": "markdown",
      "metadata": {
        "id": "Lk5sfiBM_qcs"
      },
      "source": [
        "<a id='sec3.1'></a>\n",
        "## 3.1 Elementos básicos de Python"
      ]
    },
    {
      "cell_type": "markdown",
      "metadata": {
        "id": "m-IjF8sH_qct"
      },
      "source": [
        "<a id='sec3.1.1'></a>\n",
        "### 3.1.1 El lenguaje de programación Python\n",
        "Python es un lenguaje creado por el holandés [Guido van Rossum](https://en.wikipedia.org/wiki/Guido_van_Rossum) en 1991, pero que solo después del año 2000 se hizo popular. Es un lenguaje de programación de alto nivel que tiene entre sus principales características las siguientes:\n",
        "- Propósito general: puede ser utilizado para hacer programas en ámbitos muy diversos.\n",
        "- Fácil lectura: el código fuente de un programa Python es fácil de entender.\n",
        "- Interpretado: el lenguaje está diseñado para ser ejecutado a través de un intérprete.\n",
        "\n",
        "Hoy en día, Python es considerado uno de los lenguajes más utilizados en todo el mundo (ver rankings [IEEE](https://spectrum.ieee.org/top-programming-languages-2024), [GitHub](https://madnight.github.io/githut/#/pushes/2024))."
      ]
    },
    {
      "cell_type": "markdown",
      "metadata": {
        "id": "pUqJmoQi_qcu"
      },
      "source": [
        "<a id='sec3.1.2'></a>\n",
        "### 3.1.2 Ejecución de programas Python\n",
        "Un programa Python está compuesto por una secuencia de instrucciones que son ejecutadas por el intérprete. Existen dos modos de ejecución: interactiva y completa."
      ]
    },
    {
      "cell_type": "markdown",
      "metadata": {
        "id": "RPE6K6Ry_qcv"
      },
      "source": [
        "#### Ejecución interactiva\n",
        "Se utiliza una terminal en la que se escribe y ejecuta una instrucción a la vez. Después de la ejecución de cada instrucción en la terminal, aparecen los resultados y ésta quedará lista para recibir nuevas instrucciones. Este modo es utilizado por los programadores para probar el comportamiento de alguna instrucción antes de ser incorporada en un programa completo.\n",
        "\n",
        "<img src=\"https://github.com/sisaza/informatica/blob/master/Unidad3/images/Inf1-u3-fig-1.png?raw=1\" alt=\"interactive\" width=\"600\"/>\n",
        "\n",
        "                                       Fig. 1. Ejecución interactiva de una instrucción"
      ]
    },
    {
      "cell_type": "markdown",
      "metadata": {
        "id": "UElsNAIl_qcx"
      },
      "source": [
        "#### Ejecución completa\n",
        "Se utiliza un editor de texto o un [IDE](https://en.wikipedia.org/wiki/Integrated_development_environment) (Integrated Development Environment) para escribir el programa completo, que luego será ejecutado al invocar el intérprete. Este es el modo que se utiliza para probar un programa completo y que le interesa al usuario final para su ejecución.\n",
        "\n",
        "<img src=\"https://github.com/sisaza/informatica/blob/master/Unidad3/images/Inf1-u3-fig-2.png?raw=1\" alt=\"complete\" width=\"800\"/>\n",
        "\n",
        "                                            Fig. 2. Ejecución completa de un programa"
      ]
    },
    {
      "cell_type": "markdown",
      "metadata": {
        "id": "WAXeirQe_qcy"
      },
      "source": [
        "<a id='sec3.1.3'></a>\n",
        "### 3.1.3 Tipos de datos y variables\n",
        "Una primera clasificación que se puede hacer de los datos en Python es entre **escalares** y **arreglos**. Los datos escalares son aquellos que no están compuestos por otros y que Python los trata como entidades indivisibles. Los datos tipo arreglo, son en realidad conjuntos de datos que se encuentran agrupados para facilitar su manejo."
      ]
    },
    {
      "cell_type": "markdown",
      "metadata": {
        "id": "O1mz-zLK_qcz"
      },
      "source": [
        "En Python existen cuatro tipos de datos escalares:\n",
        "- `int`: números enteros (ej.: `7`)\n",
        "- `float`: números reales (ej.: `8.295`)\n",
        "- `bool`: valores booleanos (ej.: verdadero (`True`) o falso (`False`))\n",
        "- `None`: vacío, representa la ausencia de datos"
      ]
    },
    {
      "cell_type": "markdown",
      "metadata": {
        "id": "_nZ2JlhP_qc0"
      },
      "source": [
        "El siguiente código muestra el uso de la función `type()` para averiguar qué tipo de dato está asociado a una variable:"
      ]
    },
    {
      "cell_type": "code",
      "execution_count": null,
      "metadata": {
        "id": "dfhN3BXP_qc2",
        "colab": {
          "base_uri": "https://localhost:8080/"
        },
        "outputId": "e4308773-4959-4ec9-bfec-596e85997d5c"
      },
      "outputs": [
        {
          "output_type": "stream",
          "name": "stdout",
          "text": [
            "<class 'int'>\n",
            "<class 'float'>\n",
            "<class 'bool'>\n",
            "<class 'NoneType'>\n"
          ]
        }
      ],
      "source": [
        "x = 3\n",
        "print(type(x))\n",
        "y = 6.7\n",
        "print(type(y))\n",
        "z = False\n",
        "print(type(z))\n",
        "a = None\n",
        "print(type(a))"
      ]
    },
    {
      "cell_type": "markdown",
      "metadata": {
        "id": "Y9Cz2x0s_qc-"
      },
      "source": [
        "A veces es posible convertir entre diferentes tipos de datos, como se ve en el siguiente código:"
      ]
    },
    {
      "cell_type": "code",
      "execution_count": null,
      "metadata": {
        "id": "Z7b_vl2V_qdA",
        "scrolled": true,
        "colab": {
          "base_uri": "https://localhost:8080/"
        },
        "outputId": "08a4c002-b144-49c8-d5c0-4819968931f4"
      },
      "outputs": [
        {
          "output_type": "stream",
          "name": "stdout",
          "text": [
            "8.47\n",
            "8\n",
            "8.0\n"
          ]
        }
      ],
      "source": [
        "x = 8.47\n",
        "y = int(x)\n",
        "z = float(y)\n",
        "print(x)\n",
        "print(y)\n",
        "print(z)"
      ]
    },
    {
      "cell_type": "markdown",
      "metadata": {
        "id": "BVgqK2sa_qdE"
      },
      "source": [
        "En los ejemplos anteriores, así como en los algoritmos en diagramas de flujo, se utilizan variables para referirse a los datos. Se debe recordar que los datos, en realidad, están almacenados en la memoria (RAM) del computador, que está organizada por direcciones numéricas consecutivas. Sin embargo, para facilidad de la programación, los lenguajes de alto nivel nos permiten darle nombres arbitrarios a esas direcciones de memoria. En Python, también las variables son *nombres* que se asocian a los datos. En la terminología técnica de Python, a las variables se les llama *identificadores*, ya que son nombres que sirven para identificar datos."
      ]
    },
    {
      "cell_type": "markdown",
      "metadata": {
        "id": "gdd-xlmh_qdG"
      },
      "source": [
        "<a id='sec3.1.4'></a>\n",
        "### 3.1.4 Operadores, expresiones e instrucciones\n",
        "Los operadores son los símbolos que se utilizan para representar operaciones *primitivas* del lenguaje. Algunos de los principales operadores de Python son:\n",
        "* `+`: suma\n",
        "* `-`: resta\n",
        "* `*`: multiplicación\n",
        "* `/`: división real\n",
        "* `//`: división entera\n",
        "* `%`: módulo (residuo de la división)\n",
        "* `**`: potenciación\n",
        "* `=`: asignación (asociar una variable a un dato)"
      ]
    },
    {
      "cell_type": "markdown",
      "metadata": {
        "id": "g_9JBd6b_qdH"
      },
      "source": [
        "En el siguiente código se muestran ejemplos de la utilización de todos los operadores mencionados, algunos utilizan *literales*, mientras que otros utilizan variables:"
      ]
    },
    {
      "cell_type": "code",
      "execution_count": null,
      "metadata": {
        "id": "u9A2bDwZ_qdI",
        "colab": {
          "base_uri": "https://localhost:8080/"
        },
        "outputId": "8c6c895a-71a0-4c6e-dd19-db39433a8586"
      },
      "outputs": [
        {
          "output_type": "stream",
          "name": "stdout",
          "text": [
            "7\n",
            "4.800000000000001\n",
            "7.0\n",
            "6\n",
            "256\n",
            "4.0\n"
          ]
        }
      ],
      "source": [
        "print(12+4-9)\n",
        "print(3*(8/5))\n",
        "print(7/1)\n",
        "k = 2016\n",
        "print(k%10)\n",
        "g = 16\n",
        "print(g**2)\n",
        "h = g**0.5\n",
        "print(h)"
      ]
    },
    {
      "cell_type": "markdown",
      "metadata": {
        "id": "bKuarCo2_qdL"
      },
      "source": [
        "Las *expresiones* son combinaciones de operadores y operandos, es así como se puede decir que `x**3-z` o `a = 3` son expresiones válidas en Python. Por otro lado, se dice que las *instrucciones* son expresiones que por sí solas constituyen una operación que puede ser ejecutada por un computador. La expresión `x**3-z` *no* constituye una instrucción, mientras que `a = 3` sí."
      ]
    },
    {
      "cell_type": "markdown",
      "metadata": {
        "id": "VsCeiw_0_qdM"
      },
      "source": [
        "<a id='sec3.1.5'></a>\n",
        "### 3.1.5 Strings: cadenas de caracteres\n",
        "Luego de presentar y dar algunos ejemplos asociados a los tipos de dato escalares, se ve un tipo de *arreglo* que es muy utilizado en la mayoría de los programas. Los `string` son secuencias de caracteres (símbolos) que tienen asociado un único identificador (variable) y son muy utilizados debido a que la mayoría de los programas necesitan en algún momento almacenar y procesar textos. Se puede entonces asociar una variable `string` a una palabra, frase o incluso un texto más extenso."
      ]
    },
    {
      "cell_type": "markdown",
      "metadata": {
        "id": "WMk5sIt6_qdN"
      },
      "source": [
        "Para asociar una variable a un literal tipo `string` se pueden utilizar las comillas simples o las dobles, como se muestra en el siguiente código. Además, el ejemplo muestra la utilización de los operadores `+` y `*` con datos tipo `string`. Note que al no tratarse de operadores `int`o `float`, estos operadores adquieren otro significado: *concatenación* y *replicación* respectivamente. La concatenación de dos `string` resulta en uno nuevo que contiene la unión de los dos. La replicación genera un `string` más extenso con repeticiones del original."
      ]
    },
    {
      "cell_type": "code",
      "execution_count": null,
      "metadata": {
        "id": "H6dO79j0_qdP",
        "scrolled": true,
        "colab": {
          "base_uri": "https://localhost:8080/"
        },
        "outputId": "0bf975ae-3d45-4396-9c1e-7ded82085482"
      },
      "outputs": [
        {
          "output_type": "stream",
          "name": "stdout",
          "text": [
            "Fernando Pérez Colombia\n",
            "Fernando PérezFernando Pérez\n",
            "Fernando Pérez5\n",
            "Fin\n"
          ]
        }
      ],
      "source": [
        "name = 'Fernando Pérez'\n",
        "country = \"Colombia\"\n",
        "\n",
        "var1 = name + \" \" + country\n",
        "print(var1)\n",
        "var2 = name * 2\n",
        "print(var2)\n",
        "var3 = name + \"5\"\n",
        "print(var3)\n",
        "#var4 = name * country\n",
        "#print(var4)\n",
        "print(\"Fin\")"
      ]
    },
    {
      "cell_type": "markdown",
      "metadata": {
        "id": "5P8L5Dss_qdR"
      },
      "source": [
        "Finalmente note que no todos los operadores pueden ser utilizados con variables `string`. En la línea 8 se aplica el operador `+` entre un `string` y un `int`, lo que resulta en un mensaje de error del intérprete, así mismo sucede con la línea 10 en la que utiliza el operador `*` entre dos variables `string`. Como el intérprete ejecuta una línea del programa a la vez, éste se detiene en la línea 8 cuando se presenta el primer error. Observe también que el intéprete advierte que es un `TypeError`, es decir, un error debido a un *tipo de dato* (incorrectamente utilizado)."
      ]
    },
    {
      "cell_type": "markdown",
      "metadata": {
        "id": "ZxOvG6-a_qdT"
      },
      "source": [
        "#### Accediendo a los elementos de un string\n",
        "Como se dijo, las variables `string` son arreglos (no-escalares) y por lo tanto Python nos permite manipular individualmente los elementos que forman el arreglo. La operación fundamental cuando se trabaja con arreglos es la **indexación**, es decir, el acceso a elementos de un arreglo. El siguiente código muestra diferentes maneras de indexar la variable `name`:"
      ]
    },
    {
      "cell_type": "code",
      "execution_count": null,
      "metadata": {
        "id": "ZLOdOuxs_qdV",
        "colab": {
          "base_uri": "https://localhost:8080/"
        },
        "outputId": "fa7399d7-0abb-4a0a-b326-dffceb62dbcc"
      },
      "outputs": [
        {
          "output_type": "stream",
          "name": "stdout",
          "text": [
            "F\n",
            " \n",
            "z\n",
            "14\n",
            "z\n"
          ]
        }
      ],
      "source": [
        "name = 'Fernando Pérez'\n",
        "print(name[0])\n",
        "print(name[8])\n",
        "print(name[-1])\n",
        "\n",
        "x = len(name) #length\n",
        "print(x)\n",
        "print(name[x-1])\n",
        "#print(name[x])"
      ]
    },
    {
      "cell_type": "markdown",
      "metadata": {
        "id": "sZqH8NCF_qdY"
      },
      "source": [
        "Como se ve, para acceder a un elemento particular de `name` se agrega entre corchetes `[]`el número entero que representa la posición del elemento contando desde cero. A ese número se le llama *índice* o *posición* del elemento. El índice puede ser un literal, una variable, o una expresión cuyo valor final sea un número entero. Note que -1 representa el índice del último elemento del `string` y -2 representaría el penúltimo.\n",
        "\n",
        "Note que en la línea 6 del anterior código, se utiliza la función `len()`, que sirve para conocer la longitud de\n",
        "las últimas dos instrucciones (líneas 9 y 10). En la línea 9 se intenta indexar la posición 14 de un `string` que solo tiene 14 elementos, es decir, el primer elemento es el 0 y el último es el 13, por lo tanto, el 14 no existe. En la línea 10, se utiliza un número con décimas para indexar, lo cual no tiene sentido."
      ]
    },
    {
      "cell_type": "markdown",
      "metadata": {
        "id": "OT_dFzne_qdZ"
      },
      "source": [
        "#### Slicing: accediendo a un segmento de un string\n",
        "Python también nos da la posibilidad de acceder a un segmento del `string`, como se muestra en el siguiente código ejemplo. Para hacer *slicing* (segmentación) se pone entre corchetes `[]` el inicio y el fin del segmento separados por `:`. La segmentación dará como resultado otro `string` que será una copia del original desde la posición de inicio hasta **antes** de la posición de fin del segmento. Note que le línea 3 del código ejemplo solo muestra los elementos 0, 1 y 2 (`Fer`), pero no el 3. Si se omite el índice de inicio o de fin del segmento, el intérprete lo asume como el inicio o fin del `string` original."
      ]
    },
    {
      "cell_type": "code",
      "execution_count": null,
      "metadata": {
        "id": "ZKZriECb_qdb",
        "colab": {
          "base_uri": "https://localhost:8080/"
        },
        "outputId": "691ecc1a-c6f0-48c1-8ed6-93ae91477477"
      },
      "outputs": [
        {
          "output_type": "stream",
          "name": "stdout",
          "text": [
            "Fern\n",
            "Fernando Pérez\n",
            "Fernando Pérez\n",
            "ando Pé\n",
            "o Pérez\n"
          ]
        }
      ],
      "source": [
        "name = 'Fernando Pérez'\n",
        "x = len(name)\n",
        "print(name[0:3])\n",
        "print(name[0:x])\n",
        "print(name)\n",
        "print(name[4:11])\n",
        "print(name[:4])"
      ]
    },
    {
      "cell_type": "code",
      "source": [
        "name_femenine = name[:7] + \"a\" + name[8:]\n",
        "print(name_femenine)\n",
        "greet = \"Hola Juan, cómo estás?\"\n",
        "greet = greet[:5] + \"Sebastián\" + greet[9:]\n",
        "print(greet)"
      ],
      "metadata": {
        "colab": {
          "base_uri": "https://localhost:8080/"
        },
        "id": "rWsxVYITvpUf",
        "outputId": "524a760f-61af-4b2d-be9f-6d4af77dff62"
      },
      "execution_count": null,
      "outputs": [
        {
          "output_type": "stream",
          "name": "stdout",
          "text": [
            "Fernanda Pérez\n",
            "Hola Sebastián, cómo estás?\n"
          ]
        }
      ]
    },
    {
      "cell_type": "markdown",
      "metadata": {
        "id": "ZtEyemMQ_qdj"
      },
      "source": [
        "<a id='sec3.1.6'></a>\n",
        "### 3.1.6 Entrada y salida\n",
        "Para que un programa reciba y entregue datos, por ejemplo, a través de un teclado y una pantalla respectivamente, Python nos ofrece las funciones `input()` y `print()`. La primera, aunque tiene como objetivo principal recibir datos, a la vez permite, anteceder la recepción de los mismos con algún mensaje que le indique al usuario qué es lo que el programa espera recibir. El siguiente código muestra un ejemplo:"
      ]
    },
    {
      "cell_type": "code",
      "execution_count": null,
      "metadata": {
        "id": "9Bfo1G_E_qdk",
        "colab": {
          "base_uri": "https://localhost:8080/"
        },
        "outputId": "0ea29249-ffb5-4594-8114-8f0ca4d892b5"
      },
      "outputs": [
        {
          "output_type": "stream",
          "name": "stdout",
          "text": [
            "What is your name? Sebastián\n",
            "Good morning Sebastián !\n",
            "How old are you? 45\n",
            "In one year you will be 46\n"
          ]
        }
      ],
      "source": [
        "name = input('What is your name? ')\n",
        "# Print + Read -> input\n",
        "\n",
        "print('Good morning', name, '!')\n",
        "# Print -> print\n",
        "\n",
        "age = input('How old are you? ')\n",
        "print('In one year you will be', int(age)+1)"
      ]
    },
    {
      "cell_type": "code",
      "source": [
        "story = input(\"Tell me a story: \")\n",
        "pos = ???\n",
        "story = story[0:5] + \"*\" + story[6:]\n",
        "print(story)"
      ],
      "metadata": {
        "colab": {
          "base_uri": "https://localhost:8080/"
        },
        "id": "zlyPGrx9z-l3",
        "outputId": "178a7aed-0fd4-4b67-ccf1-61b4d16bd84e"
      },
      "execution_count": null,
      "outputs": [
        {
          "output_type": "stream",
          "name": "stdout",
          "text": [
            "Tell me a story: había una vez...\n",
            "había*una vez...\n"
          ]
        }
      ]
    },
    {
      "cell_type": "markdown",
      "metadata": {
        "id": "OTcYd-74_qdn"
      },
      "source": [
        "Es importante aclarar que la función `input()` *siempre* entrega un `string`. Es por esto que en el ejemplo mostrado, en la línea 5 es necesario convertir la variable `age` a tipo `int`, de manera que la operación `+1` tenga sentido. Esto nos lleva a anotar también, que las cadenas de caracteres no solo se componen de letras, sino que también pueden tener números, signos de puntuación o matemáticos y en general cualquier símbolo que esté definido en la tabla [ASCII](https://es.wikipedia.org/wiki/ASCII)."
      ]
    },
    {
      "cell_type": "markdown",
      "metadata": {
        "id": "5c-Oo6TQ_qdr"
      },
      "source": [
        "La función `print()` nos permite poner en pantalla información literal así como valores de variables. Si en un llamado a la función `print()` se quieren imprimir varias cosas, éstas deben ir separadas por comas, como se muestra en la línea 5 del ejemplo anterior, donde se imprime un mensaje literal y luego el valor de la expresión `int(age)+1`."
      ]
    },
    {
      "cell_type": "markdown",
      "metadata": {
        "id": "qAVPz9rr_qds"
      },
      "source": [
        "<a id='sec3.1.7'></a>\n",
        "### 3.1.7 Primitivas, operadores y funciones\n",
        "Ya en la Unidad 2 se habían definido las *primitivas* como las operaciones que un lenguaje le ofrece ya *listas* al programador para construir sus algoritmos. Los operadores que se han visto en Python, tales como `+` o `-` implementan operaciones primitivas básicas del lenguaje. Por otro lado, ya se han mencionado algunas *funciones* como `print()`, `len()` o `input()`, que también se pueden considerar como primitivas del lenguaje, dado que le proporcionan al programador operaciones listas para su uso. Estas funciones primitivas hacen parte de [The Python Standard Library](https://docs.python.org/3/library/index.html) y se conocen como funciones [built-in](https://docs.python.org/3/library/functions.html). En la Unidad 4 se verá cómo el programador puede construir sus propias funciones."
      ]
    },
    {
      "cell_type": "markdown",
      "metadata": {
        "id": "ZuDBGjDf_qdx"
      },
      "source": [
        "<a id='sec3.1.8'></a>\n",
        "### 3.1.8 Condicionales\n",
        "Para implementar una condición, se utiliza en Python la instrucción `if` seguida de una expresión booleana, es decir, que su valor sea `True` o `False`. El siguiente código muestra un ejemplo:"
      ]
    },
    {
      "cell_type": "code",
      "execution_count": null,
      "metadata": {
        "id": "nSIxdSN0_qdz",
        "colab": {
          "base_uri": "https://localhost:8080/"
        },
        "outputId": "941396ee-ab20-4b4a-b9e5-5f606732c777"
      },
      "outputs": [
        {
          "output_type": "stream",
          "name": "stdout",
          "text": [
            "Price of apples: 3\n",
            "Price of mangos: 2\n",
            "Mangos are cheaper\n",
            "Bye\n"
          ]
        }
      ],
      "source": [
        "apples = int(input('Price of apples: '))\n",
        "mangos = int(input('Price of mangos: '))\n",
        "\n",
        "# if condición:\n",
        "# espacios instrucciones condicionadas al sí se cumple\n",
        "# else: (opcional)\n",
        "# espacios isntrucciones condicionadas al no se cumple\n",
        "\n",
        "if apples > mangos:\n",
        "    print('Mangos are cheaper')\n",
        "elif mangos > apples: #else if\n",
        "    print('Apples are cheaper')\n",
        "else:\n",
        "    print('Apples and mangos have the same price')\n",
        "\n",
        "print(\"Bye\")"
      ]
    },
    {
      "cell_type": "code",
      "source": [
        "price = int(input(\"Cuánto vale tu carro (en millones de pesos)?\"))\n",
        "\n",
        "if price > 10000:\n",
        "  print(\"Estás seguro que es el precio correcto?\")\n",
        "\n",
        "if price < 10:\n",
        "  print(\"Está seguro que es un carro?\")\n",
        "elif price < 20:\n",
        "  print(\"Tienes un carro viejito\")\n",
        "elif price < 50:\n",
        "  print(\"Tienes un carro bueno\")\n",
        "else:\n",
        "  print(\"Tienes un carro excelente\")\n",
        "\n",
        "print(\"Fin\")"
      ],
      "metadata": {
        "colab": {
          "base_uri": "https://localhost:8080/"
        },
        "id": "kOk_F2i1ZE13",
        "outputId": "d76a0f52-2738-4834-ebdc-71888346e198"
      },
      "execution_count": null,
      "outputs": [
        {
          "output_type": "stream",
          "name": "stdout",
          "text": [
            "Cuánto vale tu carro (en millones de pesos)?7\n",
            "Está seguro que es un carro?\n"
          ]
        }
      ]
    },
    {
      "cell_type": "code",
      "source": [
        "mes = input(\"En qué mes vas a viajar a Europa?\")\n",
        "mes = mes.lower()\n",
        "\n",
        "if mes == \"julio\":\n",
        "  print(\"Vas a viajar en verano\")\n",
        "elif mes == \"diciembre\":\n",
        "  print(\"Vas a viajar en invierno\")\n",
        "else:\n",
        "  print(\"No sé\")"
      ],
      "metadata": {
        "colab": {
          "base_uri": "https://localhost:8080/"
        },
        "id": "6Qye4IBvbvvr",
        "outputId": "6bfbf813-5008-4391-da90-af7cbda9e4c4"
      },
      "execution_count": null,
      "outputs": [
        {
          "output_type": "stream",
          "name": "stdout",
          "text": [
            "En qué mes vas a viajar a Europa?JuliO\n",
            "Vas a viajar en verano\n"
          ]
        }
      ]
    },
    {
      "cell_type": "markdown",
      "metadata": {
        "id": "8r9wBkoI_qd6"
      },
      "source": [
        "De la línea 4 en adelante, el anterior código se lee así:\n",
        "\n",
        "    Si el valor de apples es mayor que el de mangos,\n",
        "        imprima 'Mangos are cheaper';\n",
        "    de lo contrario,\n",
        "        imprima 'Apples are cheaper'.\n",
        "\n",
        "La instrucción `else` antecede a las instrucciones que deben ejecutarse en caso de que la condición del `if` *no* sea verdadera. Note que las instrucciones de las líneas 5 y 7 tienen sangría (espacios en blanco al inicio). Esta sangría es muy importante, pues es la manera como se le dice al intérprete que una instrucción está condicionada por aquella que esté en el siguiente nivel con menor sangría."
      ]
    },
    {
      "cell_type": "markdown",
      "metadata": {
        "id": "on5nXXq__qd7"
      },
      "source": [
        "En muchos casos, una sola condición no es suficiente para la implementación de un algoritmo. El siguiente código muestra dos extensiones que pueden tener las instrucciones condicionales en Python. En primer lugar, la línea 2 muestra que se puede tener una instrucción `if` condicionada a otra instrucción `if` previa. Esta jerarquía se indica con el desplazamiento (sangría) a la derecha.\n",
        "\n",
        "La instrucción `elif` viene de la contracción de `else` e `if` y sirve para evaluar una segunda condición en caso de que la anterior, en el mismo nivel de jerarquía, no se haya cumplido. En el ejemplo mostrado, si `x%2` no es igual a `0`, entonces se evaluará si `x%3` no es igual a `0`. Por el contrario, si `x%2` sí es igual a `0`, entonces la instrucción de la línea 6 (`elif`) no se ejecutará."
      ]
    },
    {
      "cell_type": "code",
      "execution_count": null,
      "metadata": {
        "id": "8vXF7SvH_qd8"
      },
      "outputs": [],
      "source": [
        "x = int(input('Enter a number: '))\n",
        "if x%2 == 0:\n",
        "    if x%3 == 0:\n",
        "        print('Divisible by 2 and 3')\n",
        "    else:\n",
        "        print('Divisible by 2 and not by 3')\n",
        "elif x%3 == 0:\n",
        "    print('Divisible by 3 and not by 2')\n",
        "else:\n",
        "    print('Not divisible by 2 nor by 3')"
      ]
    },
    {
      "cell_type": "markdown",
      "metadata": {
        "id": "9KZNQeqU_qd-"
      },
      "source": [
        "La siguiente figura muestra el diagrama de flujo correspondiente al código mostrado anteriormente:\n",
        "<img src=\"https://github.com/sisaza/informatica/blob/master/Unidad3/images/Inf1-u3-fig-3.png?raw=1\" alt=\"ifelifelse\"/>\n",
        "\n",
        "                                    Fig. 3. Diagrama de flujo: ejemplo de condicionales"
      ]
    },
    {
      "cell_type": "markdown",
      "metadata": {
        "id": "gTF1l-38_qeA"
      },
      "source": [
        "**Programas de tiempo constante:** los programas que se han visto hasta el momento comparten una característica importante y es que sin importar como cambien los datos de entrada, cada ejecución de cada programa tomará siempre el mismo tiempo. En otras palabras, estos programas siempre deben ejecutar la misma cantidad de instrucciones. En cambio, la mayoría de los programas con ciclos, como los que se verán en la próxima sección, no comparten esta característica."
      ]
    },
    {
      "cell_type": "markdown",
      "metadata": {
        "id": "vlaRBPY4_qeB"
      },
      "source": [
        "<a id='sec3.1.9'></a>\n",
        "### 3.1.9 Operadores de comparación y booleanos\n",
        "Los operadores de comparación en Python son:\n",
        "* `==`: igualdad\n",
        "* `!=`: diferencia\n",
        "* `>`: mayor que\n",
        "* `<`: menor que\n",
        "* `>=`: mayor o igual\n",
        "* `<=`: menor o igual"
      ]
    },
    {
      "cell_type": "markdown",
      "metadata": {
        "id": "zClZfd61_qeC"
      },
      "source": [
        "Por otro lado, se tienen también los llamados operadores booleanos:\n",
        "* `and`: produce verdadero si *ambos* operandos son verdaderos.\n",
        "* `or`: produce verdadero si *alguno* de los operandos es verdadero.\n",
        "* `not`: cambia de verdadero a falso y viceversa el valor booleano de una variable."
      ]
    },
    {
      "cell_type": "markdown",
      "metadata": {
        "id": "5PtLJrjN_qeD"
      },
      "source": [
        "El siguiente código muestra ejemplos de uso de los operadores booleanos. Note que el operador `not` solo requiere un operando."
      ]
    },
    {
      "cell_type": "code",
      "execution_count": null,
      "metadata": {
        "id": "fW82b99L_qeE",
        "colab": {
          "base_uri": "https://localhost:8080/"
        },
        "outputId": "baeca5cc-5f25-45f0-ad8e-88ee07452b37"
      },
      "outputs": [
        {
          "output_type": "stream",
          "name": "stdout",
          "text": [
            "Enter a number: 10\n",
            "Enter a number: 10\n",
            "x is even and y has more than one digit\n"
          ]
        }
      ],
      "source": [
        "x = int(input('Enter a number: '))\n",
        "y = int(input('Enter a number: '))\n",
        "if x%2 == 0 and y > 9:\n",
        "    print('x is even and y has more than one digit')\n",
        "elif x < 0 or y < 0:\n",
        "    print('x or y are negative')\n"
      ]
    },
    {
      "cell_type": "code",
      "source": [
        "# leap year algorithm\n",
        "year = int(input(\"Ingrese un año: \"))\n",
        "if year%400 == 0:\n",
        "  print(\"Sí es bisiesto\")\n",
        "elif year%100 == 0:\n",
        "  print(\"No es bisiesto\")\n",
        "elif year%4 == 0:\n",
        "  print(\"Sí es bisiesto\")\n",
        "else:\n",
        "  print(\"No es bisiesto\")\n"
      ],
      "metadata": {
        "colab": {
          "base_uri": "https://localhost:8080/"
        },
        "id": "7T8a1lHxVHi9",
        "outputId": "41a45d56-2117-4bca-9c83-7c71f0a4215a"
      },
      "execution_count": null,
      "outputs": [
        {
          "output_type": "stream",
          "name": "stdout",
          "text": [
            "Ingrese un año: 4\n",
            "Sí es bisiesto\n"
          ]
        }
      ]
    },
    {
      "cell_type": "markdown",
      "metadata": {
        "id": "B7Q8A6ml_qeI"
      },
      "source": [
        "<a id='sec3.1.10'></a>\n",
        "### 3.1.10 Ciclos\n",
        "En Python se pueden implementar ciclos utilizando la instrucción `while`. *Mientras* que la condición que acompaña al `while` sea verdadera, las instrucciones que están condicionadas al `while` se ejecutarán repetidamente. El siguiente código nos muestra la implementación de un sencillo algoritmo que suma los primeros `N` números:"
      ]
    },
    {
      "cell_type": "code",
      "execution_count": null,
      "metadata": {
        "id": "6FW1qEWu_qeM",
        "colab": {
          "base_uri": "https://localhost:8080/"
        },
        "outputId": "a0def090-5fdd-47d1-f1f5-fac55beaafbf"
      },
      "outputs": [
        {
          "output_type": "stream",
          "name": "stdout",
          "text": [
            "Enter a number: 5\n",
            "1 5\n",
            "2 5\n",
            "3 5\n",
            "4 5\n",
            "5 5\n",
            "The first 5 integers sum 15\n"
          ]
        }
      ],
      "source": [
        "N = int(input('Enter a number: '))\n",
        "num = 1\n",
        "s = 0\n",
        "\n",
        "while num <= N:\n",
        "    print(num, N)\n",
        "    s = s + num\n",
        "    num = num + 1\n",
        "\n",
        "print('The first', N, 'integers sum', s)"
      ]
    },
    {
      "cell_type": "code",
      "source": [
        "# how many digits?\n",
        "num = int(input(\"Ingrese un número entero: \"))\n",
        "c = 0\n",
        "\n",
        "while num > 0:\n",
        "  c = c + 1\n",
        "  num = num // 10\n",
        "\n",
        "print(\"La cantidad de dígitos es:\", c)\n"
      ],
      "metadata": {
        "colab": {
          "base_uri": "https://localhost:8080/"
        },
        "id": "Q3IssfOiXfGe",
        "outputId": "99e2d04f-c12e-485f-c104-f40801ea2240"
      },
      "execution_count": null,
      "outputs": [
        {
          "output_type": "stream",
          "name": "stdout",
          "text": [
            "La cantidad de dígitos es: 1\n"
          ]
        }
      ]
    },
    {
      "cell_type": "code",
      "source": [
        "# imprimir promedio de los impares\n",
        "# 3 7 2 5 10 0 -> 3 5 nada 5 nada\n",
        "sum = 0\n",
        "k = 0\n",
        "N = int(input(\"Ingrese un número: \"))\n",
        "while N != 0:\n",
        "  if N % 2 == 1:\n",
        "    sum = sum + N\n",
        "    k = k + 1\n",
        "    P = sum / k\n",
        "    print(P)\n",
        "  N = int(input(\"Ingrese un número: \"))"
      ],
      "metadata": {
        "colab": {
          "base_uri": "https://localhost:8080/"
        },
        "id": "3paOt7H9ZjFX",
        "outputId": "22e18519-2ecb-488b-9065-5e0b9e765da4"
      },
      "execution_count": null,
      "outputs": [
        {
          "name": "stdout",
          "output_type": "stream",
          "text": [
            "Ingrese un número: 3\n",
            "3.0\n",
            "Ingrese un número: 7\n",
            "5.0\n",
            "Ingrese un número: 2\n",
            "Ingrese un número: 5\n",
            "5.0\n",
            "Ingrese un número: 10\n",
            "Ingrese un número: 0\n"
          ]
        }
      ]
    },
    {
      "cell_type": "code",
      "source": [
        "# alerta fraude electoral\n",
        "cont = 0\n",
        "votos_tot = int(input(\"Votos totales: \"))\n",
        "habitantes = int(input(\"Habitantes: \"))\n",
        "candidato_ganador = input(\"Candidato ganador: \")\n",
        "\n",
        "while votos_tot != 0:\n",
        "  if votos_tot > habitantes:\n",
        "    print(\"Investiguen a\", candidato_ganador)\n",
        "    cont = cont + 1\n",
        "  votos_tot = int(input(\"Votos totales: \"))\n",
        "  habitantes = int(input(\"Habitantes: \"))\n",
        "  candidato_ganador = input(\"Candidato ganador: \")\n",
        "\n",
        "print(cont, \"candidatos por investigar\")"
      ],
      "metadata": {
        "colab": {
          "base_uri": "https://localhost:8080/"
        },
        "id": "6cmv82Oefs7x",
        "outputId": "da372706-77e7-4513-e2d9-8dc174a45354"
      },
      "execution_count": null,
      "outputs": [
        {
          "output_type": "stream",
          "name": "stdout",
          "text": [
            "Votos totales: 10\n",
            "Habitantes: 12\n",
            "Candidato ganador: asdgasg\n",
            "Votos totales: 20\n",
            "Habitantes: 18\n",
            "Candidato ganador: Sebastián\n",
            "Investiguen a Sebastián\n",
            "Votos totales: 30\n",
            "Habitantes: 25\n",
            "Candidato ganador: Juan\n",
            "Investiguen a Juan\n",
            "Votos totales: 0\n",
            "Habitantes: 3\n",
            "Candidato ganador: asgfasfg\n",
            "2 candidatos por investigar\n"
          ]
        }
      ]
    },
    {
      "cell_type": "markdown",
      "metadata": {
        "id": "L-AWKdem_qeR"
      },
      "source": [
        "La siguiente figura muestra el diagrama de flujo correspondiente al código mostrado:\n",
        "\n",
        "<img src=\"https://github.com/sisaza/informatica/blob/master/Unidad3/images/Inf1-u3-fig-4.png?raw=1\" alt=\"sum_n\" width=\"300\"/>\n",
        "\n",
        "                                                  Fig. 4. Flujograma: ejemplo de ciclos"
      ]
    },
    {
      "cell_type": "markdown",
      "metadata": {
        "id": "jF6BrRsS_qer"
      },
      "source": [
        "#### Ciclos `for`\n",
        "Los ciclos `for` de Python nos permiten expresar de una forma más simple, por ejemplo, ciclos que iteran sobre una secuencia de enteros. El siguiente código nos muestra una versión del algoritmo de enumeración exhaustiva de la raíz cúbica, utilizando la instrucción `for` en lugar de `while`:"
      ]
    },
    {
      "cell_type": "code",
      "source": [
        "n = 10\n",
        "c = 0\n",
        "while c < n:\n",
        "  print(c)\n",
        "  c = c + 2\n",
        "\n",
        "#range(inicio, final, salto)\n",
        "\n",
        "for c in range(0, n, 2):\n",
        "  print(c)\n",
        "\n",
        "name = \"Sebastián\"\n",
        "\n",
        "for x in name:\n",
        "  print(x + \"-\")\n",
        "\n",
        "i = 0\n",
        "while i < len(name):\n",
        "  print(name[i] + \"*\")\n",
        "  i = i + 1"
      ],
      "metadata": {
        "colab": {
          "base_uri": "https://localhost:8080/"
        },
        "id": "ysHVOLTFhPua",
        "outputId": "a217fc90-480e-4bdf-b149-950c363dfe55"
      },
      "execution_count": null,
      "outputs": [
        {
          "output_type": "stream",
          "name": "stdout",
          "text": [
            "0\n",
            "2\n",
            "4\n",
            "6\n",
            "8\n",
            "0\n",
            "2\n",
            "4\n",
            "6\n",
            "8\n",
            "S-\n",
            "e-\n",
            "b-\n",
            "a-\n",
            "s-\n",
            "t-\n",
            "i-\n",
            "á-\n",
            "n-\n",
            "S*\n",
            "e*\n",
            "b*\n",
            "a*\n",
            "s*\n",
            "t*\n",
            "i*\n",
            "á*\n",
            "n*\n"
          ]
        }
      ]
    },
    {
      "cell_type": "code",
      "source": [
        "# muestre la primera letra del apellido\n",
        "nombre_completo = input(\"Ingrese nombre completo: \")\n",
        "encontre_el_espacio = False\n",
        "\n",
        "for letra in nombre_completo:\n",
        "  if encontre_el_espacio:\n",
        "    print(letra)\n",
        "    encontre_el_espacio = False\n",
        "  if letra == \" \":\n",
        "    encontre_el_espacio = True"
      ],
      "metadata": {
        "colab": {
          "base_uri": "https://localhost:8080/"
        },
        "id": "sJqmxHX5mJgE",
        "outputId": "20372358-9a9a-481a-93e1-f9f70ae2080f"
      },
      "execution_count": null,
      "outputs": [
        {
          "output_type": "stream",
          "name": "stdout",
          "text": [
            "Ingrese nombre completo: Sebastián Isaza\n",
            "I\n"
          ]
        }
      ]
    },
    {
      "cell_type": "code",
      "execution_count": null,
      "metadata": {
        "id": "LpoawYHf_qes",
        "scrolled": true
      },
      "outputs": [],
      "source": [
        "n = int(input('Enter an integer number: '))\n",
        "for cube in range(0, abs(n)+1):\n",
        "    if cube **3 >= abs(n):\n",
        "        break\n",
        "\n",
        "if cube**3 != abs(n):\n",
        "    print(n, 'is not a perfect cube')\n",
        "else:\n",
        "    if n < 0:\n",
        "        cube = -cube\n",
        "    print('Cube root of', n, 'is', cube)"
      ]
    },
    {
      "cell_type": "markdown",
      "metadata": {
        "id": "4aqzqFE0_qe4"
      },
      "source": [
        "La instrucción `for` le asigna en cada repetición del ciclo un valor a la variable `cube` de acuerdo a la lista de valores en el rango 0 a abs(n)+1. Se dice entonces que el ciclo `for` está *iterando* en ese rango. Sin embargo, el código tiene una condición dentro del ciclo, mediante la instrucción `if`, que hará terminar las repeticiones con un `break` si `cube **3 >= abs(n)`. Note que las instrucciones `cube = 0` y `cube = cube+1` no son necsarias en este caso, ya que el `for` se encarga de asignarle valores a `cube`."
      ]
    },
    {
      "cell_type": "markdown",
      "metadata": {
        "id": "mNkBg7Fu_qfA"
      },
      "source": [
        "***Nota Python***\n",
        "- La función `range(a,b,c)` de Python genera una lista de números enteros que inicia en `a` y llega hasta `b` con incrementos opcionales de `c`. Pruebe por ejemplo ejecutar la instrucción `range(2,10,3)` o `range(30,15,-5)`.\n",
        "- La instrucción `break` de Python se utiliza siempre dentro de un ciclo (`for` o `while`) para detener sus repeticiones al cumplirse alguna condición."
      ]
    },
    {
      "cell_type": "markdown",
      "metadata": {
        "id": "MjU3KEib_qfB"
      },
      "source": [
        "#### Ciclos `for` con `strings`\n",
        "Los ciclos `for` también pueden *iterar* sobre cadenas de caracteres. En el siguiente código, cada iteración del ciclo hará que la variable `let` tome un carácter de la cadena `name`:"
      ]
    },
    {
      "cell_type": "code",
      "execution_count": null,
      "metadata": {
        "id": "kF8NLBRA_qfC",
        "scrolled": true
      },
      "outputs": [],
      "source": [
        "#Print a string with each letter followed by a star\n",
        "name = input('Enter your name: ')\n",
        "for let in name:\n",
        "    print(let + '*')"
      ]
    },
    {
      "cell_type": "markdown",
      "metadata": {
        "id": "yaTNlONh_qfE"
      },
      "source": [
        "***Nota Python***\n",
        "- Los *comentarios* en un programa, son textos que el programador escribe a manera de explicaciones sobre el código. Para poner un comentario debe iniciarse con el símbolo `#` y el intérprete ignorará todo el resto de texto en esa línea, ya que los comentarios son para los programadores, no para el intérprete, pues no sabrá entenderlos."
      ]
    },
    {
      "cell_type": "markdown",
      "metadata": {
        "id": "7374g9cl_qfF"
      },
      "source": [
        "#### La instrucción `in`\n",
        "En ciclos y condicionales se utiliza con frecuencia la instrucción `in`, que asume dos significados diferentes. En el caso del `for`, la instrucción `in` es obligatoria y representa la asignación de valores que se hace entre las dos variables involucradas en el `for`.\n",
        "\n",
        "En el caso del `if`, la instrucción `in` sirve para evaluar si un valor está contenido en otro."
      ]
    },
    {
      "cell_type": "code",
      "execution_count": null,
      "metadata": {
        "id": "VLmRBd91_qfG",
        "colab": {
          "base_uri": "https://localhost:8080/"
        },
        "outputId": "da4f8581-f61e-4a52-82bf-b4b25e38a39d"
      },
      "outputs": [
        {
          "output_type": "stream",
          "name": "stdout",
          "text": [
            "Ingrese una palabra: Informática_I\n",
            "Ingrese otra palabra: panadero_bueno\n",
            "\n",
            "n\n",
            "n\n",
            "no\n",
            "nor\n",
            "nor\n",
            "nor\n",
            "nor\n",
            "nor\n",
            "nor\n",
            "nora\n",
            "nora_\n",
            "nora_\n",
            "Las palabras ingresadas tienen 5 letras en común\n"
          ]
        }
      ],
      "source": [
        "pal1 = input('Ingrese una palabra: ')\n",
        "pal2 = input('Ingrese otra palabra: ')\n",
        "x = 0\n",
        "lts = ''\n",
        "for letra in pal1:\n",
        "    if letra in pal2 and not letra in lts:\n",
        "        x = x + 1\n",
        "        lts = lts + letra\n",
        "    print(lts)\n",
        "print('Las palabras ingresadas tienen ' + str(x) + ' letras en común')"
      ]
    },
    {
      "cell_type": "code",
      "source": [
        "# validar contraseña con límite de intentos (break)\n",
        "pass_real = input(\"Contraseña: \")\n",
        "intentos = 0\n",
        "max_intentos = 5\n",
        "while intentos < max_intentos:\n",
        "  password = input(\"Ingrese su contraseña: \")\n",
        "  intentos = intentos + 1\n",
        "  if password == pass_real:\n",
        "    print(\"Bienvenido\")\n",
        "    break\n",
        "  else:\n",
        "    print(\"Contraseña incorrecta\")\n",
        "\n",
        "if intentos >= max_intentos:\n",
        "#if password != pass_real:\n",
        "  print(\"Tu cuenta se ha bloqueado\")"
      ],
      "metadata": {
        "colab": {
          "base_uri": "https://localhost:8080/"
        },
        "id": "i1iMmiYD0HtH",
        "outputId": "5e666e7f-8100-4ea2-9432-627a610fe8bc"
      },
      "execution_count": null,
      "outputs": [
        {
          "output_type": "stream",
          "name": "stdout",
          "text": [
            "Contraseña: 333\n",
            "Ingrese su contraseña: 44\n",
            "Contraseña incorrecta\n",
            "Ingrese su contraseña: 333\n",
            "Bienvenido\n"
          ]
        }
      ]
    },
    {
      "cell_type": "code",
      "source": [
        "# contar vocales y reemplazarlas por -\n",
        "frase = input(\"Ingrese una frase: \")\n",
        "cont = 0\n",
        "vocales = \"aeiouáéíóúAEIOUÁÉÍÓÚ\"\n",
        "frase_guiones = \"\"\n",
        "for letra in frase:\n",
        "  if letra in vocales:\n",
        "    cont = cont + 1\n",
        "    frase_guiones = frase_guiones + \"-\"\n",
        "  else:\n",
        "    frase_guiones = frase_guiones + letra\n",
        "\n",
        "print(frase_guiones)\n",
        "print(\"Había\", cont, \"vocales\")"
      ],
      "metadata": {
        "colab": {
          "base_uri": "https://localhost:8080/"
        },
        "id": "Yj9bqeiC4Q4l",
        "outputId": "b3c21059-18c1-40fe-adcb-8e3d748385bc"
      },
      "execution_count": null,
      "outputs": [
        {
          "output_type": "stream",
          "name": "stdout",
          "text": [
            "Ingrese una frase: La mañana está muy lluviosa\n",
            "L- m-ñ-n- -st- m-y ll-v--s-\n",
            "Había 11 vocales\n"
          ]
        }
      ]
    },
    {
      "cell_type": "code",
      "source": [
        "# contar vocales y reemplazarlas por -\n",
        "frase = input(\"Ingrese una frase: \")\n",
        "cont = 0\n",
        "vocales = \"aeiouáéíóúAEIOUÁÉÍÓÚ\"\n",
        "frase_guiones = \"\"\n",
        "i = 0 #\n",
        "while i < len(frase):\n",
        "  if frase[i] in vocales:\n",
        "    cont = cont + 1\n",
        "    frase_guiones = frase_guiones + \"-\"\n",
        "  else:\n",
        "    frase_guiones = frase_guiones + letra\n",
        "  i = i + 1 #\n",
        "\n",
        "print(frase_guiones)\n",
        "print(\"Había\", cont, \"vocales\")"
      ],
      "metadata": {
        "colab": {
          "base_uri": "https://localhost:8080/"
        },
        "id": "ShCgiaMJ6jMl",
        "outputId": "4e88458d-a890-43c8-8ad2-0677cdcc4ced"
      },
      "execution_count": null,
      "outputs": [
        {
          "output_type": "stream",
          "name": "stdout",
          "text": [
            "Ingrese una frase: La mañana está muy lluviosa\n",
            "L- m-ñ-n- -st- m-y ll-v--s-\n",
            "Había 11 vocales\n"
          ]
        }
      ]
    },
    {
      "cell_type": "code",
      "source": [
        "# mostrar números primos en tabla hasta un límite\n",
        "# 1 2 3 - 5 - 7 - - -\n",
        "# 11 - 13 - - - 17 - 19 -\n",
        "# ...\n",
        "\n",
        "for n in range(1, 91):\n",
        "  cont_divs = 0\n",
        "  for div in range(1, n+1):\n",
        "    if n % div == 0:\n",
        "      cont_divs = cont_divs + 1\n",
        "\n",
        "  if cont_divs <= 2:\n",
        "    if n < 10:\n",
        "      print(\"0\" + str(n), end=\" \")\n",
        "    else:\n",
        "      print(n, end=\" \")\n",
        "  else:\n",
        "    print(\"--\", end=\" \")\n",
        "\n",
        "  if n % 10 == 0:\n",
        "    print()"
      ],
      "metadata": {
        "colab": {
          "base_uri": "https://localhost:8080/"
        },
        "id": "e5M7NH1Q8Ka1",
        "outputId": "8251e7b2-2f16-4483-eb46-547862378ca9"
      },
      "execution_count": null,
      "outputs": [
        {
          "output_type": "stream",
          "name": "stdout",
          "text": [
            "01 02 03 -- 05 -- 07 -- -- -- \n",
            "11 -- 13 -- -- -- 17 -- 19 -- \n",
            "-- -- 23 -- -- -- -- -- 29 -- \n",
            "31 -- -- -- -- -- 37 -- -- -- \n",
            "41 -- 43 -- -- -- 47 -- -- -- \n",
            "-- -- 53 -- -- -- -- -- 59 -- \n",
            "61 -- -- -- -- -- 67 -- -- -- \n",
            "71 -- 73 -- -- -- -- -- 79 -- \n",
            "-- -- 83 -- -- -- -- -- 89 -- \n"
          ]
        }
      ]
    },
    {
      "cell_type": "markdown",
      "source": [
        "\n",
        "\n",
        "\n",
        "\n",
        "\n"
      ],
      "metadata": {
        "id": "4h1suqub0JKt"
      }
    },
    {
      "cell_type": "markdown",
      "source": [],
      "metadata": {
        "id": "M0VL8Z_00MK9"
      }
    },
    {
      "cell_type": "markdown",
      "source": [],
      "metadata": {
        "id": "RuLeidFb0L4W"
      }
    },
    {
      "cell_type": "code",
      "source": [
        "# mostrar calendario de un mes"
      ],
      "metadata": {
        "id": "MXVO6Gg-kciJ"
      },
      "execution_count": null,
      "outputs": []
    },
    {
      "cell_type": "markdown",
      "metadata": {
        "id": "BXC13R6B_qf5"
      },
      "source": [
        "### Nota: las figuras y fragmentos de código presentados en esta Unidad son de autoría del profesor Sebastián Isaza Ramírez."
      ]
    }
  ],
  "metadata": {
    "colab": {
      "provenance": [],
      "toc_visible": true,
      "include_colab_link": true
    },
    "kernelspec": {
      "display_name": "Python 3",
      "language": "python",
      "name": "python3"
    },
    "language_info": {
      "codemirror_mode": {
        "name": "ipython",
        "version": 3
      },
      "file_extension": ".py",
      "mimetype": "text/x-python",
      "name": "python",
      "nbconvert_exporter": "python",
      "pygments_lexer": "ipython3",
      "version": "3.6.4"
    }
  },
  "nbformat": 4,
  "nbformat_minor": 0
}